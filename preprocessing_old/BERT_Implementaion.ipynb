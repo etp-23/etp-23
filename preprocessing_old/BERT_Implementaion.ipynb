{
  "cells": [
    {
      "cell_type": "code",
      "execution_count": 1,
      "metadata": {
        "colab": {
          "base_uri": "https://localhost:8080/"
        },
        "id": "0mIwaPA5JdMX",
        "outputId": "52faaf21-633b-44f9-8f4b-94738b3236eb"
      },
      "outputs": [
        {
          "output_type": "stream",
          "name": "stdout",
          "text": [
            "Requirement already satisfied: transformers in /usr/local/lib/python3.10/dist-packages (4.34.1)\n",
            "Requirement already satisfied: filelock in /usr/local/lib/python3.10/dist-packages (from transformers) (3.12.4)\n",
            "Requirement already satisfied: huggingface-hub<1.0,>=0.16.4 in /usr/local/lib/python3.10/dist-packages (from transformers) (0.17.3)\n",
            "Requirement already satisfied: numpy>=1.17 in /usr/local/lib/python3.10/dist-packages (from transformers) (1.23.5)\n",
            "Requirement already satisfied: packaging>=20.0 in /usr/local/lib/python3.10/dist-packages (from transformers) (23.2)\n",
            "Requirement already satisfied: pyyaml>=5.1 in /usr/local/lib/python3.10/dist-packages (from transformers) (6.0.1)\n",
            "Requirement already satisfied: regex!=2019.12.17 in /usr/local/lib/python3.10/dist-packages (from transformers) (2023.6.3)\n",
            "Requirement already satisfied: requests in /usr/local/lib/python3.10/dist-packages (from transformers) (2.31.0)\n",
            "Requirement already satisfied: tokenizers<0.15,>=0.14 in /usr/local/lib/python3.10/dist-packages (from transformers) (0.14.1)\n",
            "Requirement already satisfied: safetensors>=0.3.1 in /usr/local/lib/python3.10/dist-packages (from transformers) (0.4.0)\n",
            "Requirement already satisfied: tqdm>=4.27 in /usr/local/lib/python3.10/dist-packages (from transformers) (4.66.1)\n",
            "Requirement already satisfied: fsspec in /usr/local/lib/python3.10/dist-packages (from huggingface-hub<1.0,>=0.16.4->transformers) (2023.6.0)\n",
            "Requirement already satisfied: typing-extensions>=3.7.4.3 in /usr/local/lib/python3.10/dist-packages (from huggingface-hub<1.0,>=0.16.4->transformers) (4.5.0)\n",
            "Requirement already satisfied: charset-normalizer<4,>=2 in /usr/local/lib/python3.10/dist-packages (from requests->transformers) (3.3.0)\n",
            "Requirement already satisfied: idna<4,>=2.5 in /usr/local/lib/python3.10/dist-packages (from requests->transformers) (3.4)\n",
            "Requirement already satisfied: urllib3<3,>=1.21.1 in /usr/local/lib/python3.10/dist-packages (from requests->transformers) (2.0.7)\n",
            "Requirement already satisfied: certifi>=2017.4.17 in /usr/local/lib/python3.10/dist-packages (from requests->transformers) (2023.7.22)\n"
          ]
        }
      ],
      "source": [
        "!pip install transformers"
      ]
    },
    {
      "cell_type": "code",
      "execution_count": 17,
      "metadata": {
        "id": "fNACNvuyI25g"
      },
      "outputs": [],
      "source": [
        "import nltk\n",
        "import numpy as np\n",
        "import pandas as pd\n",
        "import re\n",
        "import tensorflow as tf\n",
        "from sklearn.model_selection import train_test_split\n",
        "from sklearn.metrics import f1_score\n",
        "from sklearn.preprocessing import LabelEncoder\n",
        "from nltk.corpus import stopwords\n",
        "from transformers import BertTokenizer, TFBertModel\n",
        "from tensorflow.keras.models import Sequential\n",
        "from tensorflow.keras.layers import Conv1D, GlobalMaxPooling1D, Dense, Concatenate\n",
        "from tensorflow.keras.optimizers import Adam\n",
        "from tensorflow.keras.preprocessing.text import Tokenizer\n",
        "from tensorflow.keras.preprocessing.sequence import pad_sequences\n",
        "from tensorflow.keras.layers import Embedding, Input\n",
        "from google.colab import files\n",
        "from tensorflow.keras.layers import Reshape\n",
        "\n",
        "\n"
      ]
    },
    {
      "cell_type": "code",
      "execution_count": 4,
      "metadata": {
        "colab": {
          "base_uri": "https://localhost:8080/",
          "height": 73
        },
        "id": "mWyDjXbuJRI8",
        "outputId": "618ea025-8302-4e42-c32a-cf4c2c7333e8"
      },
      "outputs": [
        {
          "output_type": "display_data",
          "data": {
            "text/plain": [
              "<IPython.core.display.HTML object>"
            ],
            "text/html": [
              "\n",
              "     <input type=\"file\" id=\"files-032146ee-73cb-4519-a3aa-ffecf067ec7c\" name=\"files[]\" multiple disabled\n",
              "        style=\"border:none\" />\n",
              "     <output id=\"result-032146ee-73cb-4519-a3aa-ffecf067ec7c\">\n",
              "      Upload widget is only available when the cell has been executed in the\n",
              "      current browser session. Please rerun this cell to enable.\n",
              "      </output>\n",
              "      <script>// Copyright 2017 Google LLC\n",
              "//\n",
              "// Licensed under the Apache License, Version 2.0 (the \"License\");\n",
              "// you may not use this file except in compliance with the License.\n",
              "// You may obtain a copy of the License at\n",
              "//\n",
              "//      http://www.apache.org/licenses/LICENSE-2.0\n",
              "//\n",
              "// Unless required by applicable law or agreed to in writing, software\n",
              "// distributed under the License is distributed on an \"AS IS\" BASIS,\n",
              "// WITHOUT WARRANTIES OR CONDITIONS OF ANY KIND, either express or implied.\n",
              "// See the License for the specific language governing permissions and\n",
              "// limitations under the License.\n",
              "\n",
              "/**\n",
              " * @fileoverview Helpers for google.colab Python module.\n",
              " */\n",
              "(function(scope) {\n",
              "function span(text, styleAttributes = {}) {\n",
              "  const element = document.createElement('span');\n",
              "  element.textContent = text;\n",
              "  for (const key of Object.keys(styleAttributes)) {\n",
              "    element.style[key] = styleAttributes[key];\n",
              "  }\n",
              "  return element;\n",
              "}\n",
              "\n",
              "// Max number of bytes which will be uploaded at a time.\n",
              "const MAX_PAYLOAD_SIZE = 100 * 1024;\n",
              "\n",
              "function _uploadFiles(inputId, outputId) {\n",
              "  const steps = uploadFilesStep(inputId, outputId);\n",
              "  const outputElement = document.getElementById(outputId);\n",
              "  // Cache steps on the outputElement to make it available for the next call\n",
              "  // to uploadFilesContinue from Python.\n",
              "  outputElement.steps = steps;\n",
              "\n",
              "  return _uploadFilesContinue(outputId);\n",
              "}\n",
              "\n",
              "// This is roughly an async generator (not supported in the browser yet),\n",
              "// where there are multiple asynchronous steps and the Python side is going\n",
              "// to poll for completion of each step.\n",
              "// This uses a Promise to block the python side on completion of each step,\n",
              "// then passes the result of the previous step as the input to the next step.\n",
              "function _uploadFilesContinue(outputId) {\n",
              "  const outputElement = document.getElementById(outputId);\n",
              "  const steps = outputElement.steps;\n",
              "\n",
              "  const next = steps.next(outputElement.lastPromiseValue);\n",
              "  return Promise.resolve(next.value.promise).then((value) => {\n",
              "    // Cache the last promise value to make it available to the next\n",
              "    // step of the generator.\n",
              "    outputElement.lastPromiseValue = value;\n",
              "    return next.value.response;\n",
              "  });\n",
              "}\n",
              "\n",
              "/**\n",
              " * Generator function which is called between each async step of the upload\n",
              " * process.\n",
              " * @param {string} inputId Element ID of the input file picker element.\n",
              " * @param {string} outputId Element ID of the output display.\n",
              " * @return {!Iterable<!Object>} Iterable of next steps.\n",
              " */\n",
              "function* uploadFilesStep(inputId, outputId) {\n",
              "  const inputElement = document.getElementById(inputId);\n",
              "  inputElement.disabled = false;\n",
              "\n",
              "  const outputElement = document.getElementById(outputId);\n",
              "  outputElement.innerHTML = '';\n",
              "\n",
              "  const pickedPromise = new Promise((resolve) => {\n",
              "    inputElement.addEventListener('change', (e) => {\n",
              "      resolve(e.target.files);\n",
              "    });\n",
              "  });\n",
              "\n",
              "  const cancel = document.createElement('button');\n",
              "  inputElement.parentElement.appendChild(cancel);\n",
              "  cancel.textContent = 'Cancel upload';\n",
              "  const cancelPromise = new Promise((resolve) => {\n",
              "    cancel.onclick = () => {\n",
              "      resolve(null);\n",
              "    };\n",
              "  });\n",
              "\n",
              "  // Wait for the user to pick the files.\n",
              "  const files = yield {\n",
              "    promise: Promise.race([pickedPromise, cancelPromise]),\n",
              "    response: {\n",
              "      action: 'starting',\n",
              "    }\n",
              "  };\n",
              "\n",
              "  cancel.remove();\n",
              "\n",
              "  // Disable the input element since further picks are not allowed.\n",
              "  inputElement.disabled = true;\n",
              "\n",
              "  if (!files) {\n",
              "    return {\n",
              "      response: {\n",
              "        action: 'complete',\n",
              "      }\n",
              "    };\n",
              "  }\n",
              "\n",
              "  for (const file of files) {\n",
              "    const li = document.createElement('li');\n",
              "    li.append(span(file.name, {fontWeight: 'bold'}));\n",
              "    li.append(span(\n",
              "        `(${file.type || 'n/a'}) - ${file.size} bytes, ` +\n",
              "        `last modified: ${\n",
              "            file.lastModifiedDate ? file.lastModifiedDate.toLocaleDateString() :\n",
              "                                    'n/a'} - `));\n",
              "    const percent = span('0% done');\n",
              "    li.appendChild(percent);\n",
              "\n",
              "    outputElement.appendChild(li);\n",
              "\n",
              "    const fileDataPromise = new Promise((resolve) => {\n",
              "      const reader = new FileReader();\n",
              "      reader.onload = (e) => {\n",
              "        resolve(e.target.result);\n",
              "      };\n",
              "      reader.readAsArrayBuffer(file);\n",
              "    });\n",
              "    // Wait for the data to be ready.\n",
              "    let fileData = yield {\n",
              "      promise: fileDataPromise,\n",
              "      response: {\n",
              "        action: 'continue',\n",
              "      }\n",
              "    };\n",
              "\n",
              "    // Use a chunked sending to avoid message size limits. See b/62115660.\n",
              "    let position = 0;\n",
              "    do {\n",
              "      const length = Math.min(fileData.byteLength - position, MAX_PAYLOAD_SIZE);\n",
              "      const chunk = new Uint8Array(fileData, position, length);\n",
              "      position += length;\n",
              "\n",
              "      const base64 = btoa(String.fromCharCode.apply(null, chunk));\n",
              "      yield {\n",
              "        response: {\n",
              "          action: 'append',\n",
              "          file: file.name,\n",
              "          data: base64,\n",
              "        },\n",
              "      };\n",
              "\n",
              "      let percentDone = fileData.byteLength === 0 ?\n",
              "          100 :\n",
              "          Math.round((position / fileData.byteLength) * 100);\n",
              "      percent.textContent = `${percentDone}% done`;\n",
              "\n",
              "    } while (position < fileData.byteLength);\n",
              "  }\n",
              "\n",
              "  // All done.\n",
              "  yield {\n",
              "    response: {\n",
              "      action: 'complete',\n",
              "    }\n",
              "  };\n",
              "}\n",
              "\n",
              "scope.google = scope.google || {};\n",
              "scope.google.colab = scope.google.colab || {};\n",
              "scope.google.colab._files = {\n",
              "  _uploadFiles,\n",
              "  _uploadFilesContinue,\n",
              "};\n",
              "})(self);\n",
              "</script> "
            ]
          },
          "metadata": {}
        },
        {
          "output_type": "stream",
          "name": "stdout",
          "text": [
            "Saving edos_labelled_aggregated.csv to edos_labelled_aggregated (1).csv\n"
          ]
        }
      ],
      "source": [
        "uploaded=files.upload()"
      ]
    },
    {
      "cell_type": "code",
      "source": [
        "# Load your dataset and preprocess it (assuming you have a DataFrame 'df' with 'text' and 'label' columns)\n",
        "data = pd.read_csv('edos_labelled_aggregated.csv',nrows=1000)"
      ],
      "metadata": {
        "id": "PoDvS27GYexq"
      },
      "execution_count": 5,
      "outputs": []
    },
    {
      "cell_type": "code",
      "execution_count": 7,
      "metadata": {
        "colab": {
          "base_uri": "https://localhost:8080/"
        },
        "id": "TCdXpqziJ1lC",
        "outputId": "83cef32a-64ac-478b-c064-e11d39f90cb1"
      },
      "outputs": [
        {
          "output_type": "stream",
          "name": "stderr",
          "text": [
            "[nltk_data] Downloading package stopwords to /root/nltk_data...\n",
            "[nltk_data]   Package stopwords is already up-to-date!\n"
          ]
        },
        {
          "output_type": "execute_result",
          "data": {
            "text/plain": [
              "True"
            ]
          },
          "metadata": {},
          "execution_count": 7
        }
      ],
      "source": [
        "# Download stopwords\n",
        "nltk.download('stopwords')"
      ]
    },
    {
      "cell_type": "code",
      "execution_count": 25,
      "metadata": {
        "id": "mCqO5rZGJ_Im"
      },
      "outputs": [],
      "source": [
        "# Text cleaning and tokenization\n",
        "def clean_text(text):\n",
        "    text = text.lower()\n",
        "    text = ' '.join(word for word in text.split() if word.isalnum())\n",
        "    stop_words = set(stopwords.words('english'))\n",
        "    tokens = [word for word in text.split() if word not in stop_words]\n",
        "    return ' '.join(tokens)\n",
        "\n",
        "data['text'] = [clean_text(text) for text in data['text']]"
      ]
    },
    {
      "cell_type": "code",
      "execution_count": 8,
      "metadata": {
        "id": "1geN85xFKIGN"
      },
      "outputs": [],
      "source": [
        "# Converting labels to binary values\n",
        "label_encoder = LabelEncoder()\n",
        "data['label_exist'] = label_encoder.fit_transform(data['label_sexist'])"
      ]
    },
    {
      "cell_type": "code",
      "execution_count": 9,
      "metadata": {
        "id": "R3L_LQjRKSft"
      },
      "outputs": [],
      "source": [
        "# Split your data into train, validation, and test sets\n",
        "train_texts, test_texts, train_labels, test_labels = train_test_split(data['text'], data['label_exist'], test_size=0.2, random_state=42)\n",
        "train_texts, val_texts, train_labels, val_labels = train_test_split(train_texts, train_labels, test_size=0.2, random_state=42)\n"
      ]
    },
    {
      "cell_type": "code",
      "execution_count": 27,
      "metadata": {
        "colab": {
          "base_uri": "https://localhost:8080/"
        },
        "id": "ZDn0dxEtKaXq",
        "outputId": "f6f5630b-9192-44d7-83c6-5955970c6b88"
      },
      "outputs": [
        {
          "output_type": "stream",
          "name": "stderr",
          "text": [
            "Some weights of the PyTorch model were not used when initializing the TF 2.0 model TFBertModel: ['cls.predictions.transform.LayerNorm.bias', 'cls.predictions.transform.dense.bias', 'cls.predictions.transform.dense.weight', 'cls.predictions.bias', 'cls.predictions.transform.LayerNorm.weight', 'cls.seq_relationship.bias', 'cls.seq_relationship.weight']\n",
            "- This IS expected if you are initializing TFBertModel from a PyTorch model trained on another task or with another architecture (e.g. initializing a TFBertForSequenceClassification model from a BertForPreTraining model).\n",
            "- This IS NOT expected if you are initializing TFBertModel from a PyTorch model that you expect to be exactly identical (e.g. initializing a TFBertForSequenceClassification model from a BertForSequenceClassification model).\n",
            "All the weights of TFBertModel were initialized from the PyTorch model.\n",
            "If your task is similar to the task the model of the checkpoint was trained on, you can already use TFBertModel for predictions without further training.\n"
          ]
        },
        {
          "output_type": "stream",
          "name": "stdout",
          "text": [
            "{'input_ids': <tf.Tensor: shape=(640, 128), dtype=int32, numpy=\n",
            "array([[ 101, 2699, 2632, ...,    0,    0,    0],\n",
            "       [ 101, 2123, 2102, ...,    0,    0,    0],\n",
            "       [ 101, 5310, 8042, ...,    0,    0,    0],\n",
            "       ...,\n",
            "       [ 101, 3198, 3622, ...,    0,    0,    0],\n",
            "       [ 101, 3035, 2155, ...,    0,    0,    0],\n",
            "       [ 101, 6638, 2308, ...,    0,    0,    0]], dtype=int32)>, 'token_type_ids': <tf.Tensor: shape=(640, 128), dtype=int32, numpy=\n",
            "array([[0, 0, 0, ..., 0, 0, 0],\n",
            "       [0, 0, 0, ..., 0, 0, 0],\n",
            "       [0, 0, 0, ..., 0, 0, 0],\n",
            "       ...,\n",
            "       [0, 0, 0, ..., 0, 0, 0],\n",
            "       [0, 0, 0, ..., 0, 0, 0],\n",
            "       [0, 0, 0, ..., 0, 0, 0]], dtype=int32)>, 'attention_mask': <tf.Tensor: shape=(640, 128), dtype=int32, numpy=\n",
            "array([[1, 1, 1, ..., 0, 0, 0],\n",
            "       [1, 1, 1, ..., 0, 0, 0],\n",
            "       [1, 1, 1, ..., 0, 0, 0],\n",
            "       ...,\n",
            "       [1, 1, 1, ..., 0, 0, 0],\n",
            "       [1, 1, 1, ..., 0, 0, 0],\n",
            "       [1, 1, 1, ..., 0, 0, 0]], dtype=int32)>}\n",
            "{'input_ids': <tf.Tensor: shape=(160, 128), dtype=int32, numpy=\n",
            "array([[ 101, 4299, 2973, ...,    0,    0,    0],\n",
            "       [ 101, 2016, 2015, ...,    0,    0,    0],\n",
            "       [ 101, 2092, 2109, ...,    0,    0,    0],\n",
            "       ...,\n",
            "       [ 101, 2568, 2359, ...,    0,    0,    0],\n",
            "       [ 101, 6616, 3398, ...,    0,    0,    0],\n",
            "       [ 101, 5310, 5310, ...,    0,    0,    0]], dtype=int32)>, 'token_type_ids': <tf.Tensor: shape=(160, 128), dtype=int32, numpy=\n",
            "array([[0, 0, 0, ..., 0, 0, 0],\n",
            "       [0, 0, 0, ..., 0, 0, 0],\n",
            "       [0, 0, 0, ..., 0, 0, 0],\n",
            "       ...,\n",
            "       [0, 0, 0, ..., 0, 0, 0],\n",
            "       [0, 0, 0, ..., 0, 0, 0],\n",
            "       [0, 0, 0, ..., 0, 0, 0]], dtype=int32)>, 'attention_mask': <tf.Tensor: shape=(160, 128), dtype=int32, numpy=\n",
            "array([[1, 1, 1, ..., 0, 0, 0],\n",
            "       [1, 1, 1, ..., 0, 0, 0],\n",
            "       [1, 1, 1, ..., 0, 0, 0],\n",
            "       ...,\n",
            "       [1, 1, 1, ..., 0, 0, 0],\n",
            "       [1, 1, 1, ..., 0, 0, 0],\n",
            "       [1, 1, 1, ..., 0, 0, 0]], dtype=int32)>}\n",
            "{'input_ids': <tf.Tensor: shape=(200, 128), dtype=int32, numpy=\n",
            "array([[  101,  3057,  4965, ...,     0,     0,     0],\n",
            "       [  101,  3087,  4902, ...,     0,     0,     0],\n",
            "       [  101,  3398,  9826, ...,     0,     0,     0],\n",
            "       ...,\n",
            "       [  101,  3398,  2469, ...,     0,     0,     0],\n",
            "       [  101, 12669,  4819, ...,     0,     0,     0],\n",
            "       [  101,  2524,  4563, ...,     0,     0,     0]], dtype=int32)>, 'token_type_ids': <tf.Tensor: shape=(200, 128), dtype=int32, numpy=\n",
            "array([[0, 0, 0, ..., 0, 0, 0],\n",
            "       [0, 0, 0, ..., 0, 0, 0],\n",
            "       [0, 0, 0, ..., 0, 0, 0],\n",
            "       ...,\n",
            "       [0, 0, 0, ..., 0, 0, 0],\n",
            "       [0, 0, 0, ..., 0, 0, 0],\n",
            "       [0, 0, 0, ..., 0, 0, 0]], dtype=int32)>, 'attention_mask': <tf.Tensor: shape=(200, 128), dtype=int32, numpy=\n",
            "array([[1, 1, 1, ..., 0, 0, 0],\n",
            "       [1, 1, 1, ..., 0, 0, 0],\n",
            "       [1, 1, 1, ..., 0, 0, 0],\n",
            "       ...,\n",
            "       [1, 1, 1, ..., 0, 0, 0],\n",
            "       [1, 1, 1, ..., 0, 0, 0],\n",
            "       [1, 1, 1, ..., 0, 0, 0]], dtype=int32)>}\n"
          ]
        }
      ],
      "source": [
        "# Load a pre-trained BERT model and tokenizer\n",
        "bert_model_name = 'bert-base-uncased'\n",
        "tokenizer = BertTokenizer.from_pretrained(bert_model_name)\n",
        "bert_model = TFBertModel.from_pretrained(bert_model_name)\n",
        "\n",
        "# Tokenize and pad the text data for input to the BERT model\n",
        "max_length = 128  # You can adjust this based on your dataset\n",
        "train_encodings = tokenizer(train_texts.tolist(), truncation=True, padding='max_length', max_length=max_length, return_tensors='tf')\n",
        "val_encodings = tokenizer(val_texts.tolist(), truncation=True, padding='max_length', max_length=max_length, return_tensors='tf')\n",
        "test_encodings = tokenizer(test_texts.tolist(), truncation=True, padding='max_length', max_length=max_length, return_tensors='tf')\n",
        "print(train_encodings )\n",
        "print(val_encodings)\n",
        "print(test_encodings)\n"
      ]
    },
    {
      "cell_type": "code",
      "execution_count": 26,
      "metadata": {
        "id": "V4LGD751KqVh",
        "colab": {
          "base_uri": "https://localhost:8080/"
        },
        "outputId": "e08a100c-6ed9-4c02-8cca-a9edee922e21"
      },
      "outputs": [
        {
          "output_type": "stream",
          "name": "stdout",
          "text": [
            "<_BatchDataset element_spec=({'input_ids': TensorSpec(shape=(None, 128), dtype=tf.int32, name=None), 'token_type_ids': TensorSpec(shape=(None, 128), dtype=tf.int32, name=None), 'attention_mask': TensorSpec(shape=(None, 128), dtype=tf.int32, name=None)}, TensorSpec(shape=(None,), dtype=tf.int64, name=None))>\n",
            "<_BatchDataset element_spec=({'input_ids': TensorSpec(shape=(None, 128), dtype=tf.int32, name=None), 'token_type_ids': TensorSpec(shape=(None, 128), dtype=tf.int32, name=None), 'attention_mask': TensorSpec(shape=(None, 128), dtype=tf.int32, name=None)}, TensorSpec(shape=(None,), dtype=tf.int64, name=None))>\n",
            "<_BatchDataset element_spec=({'input_ids': TensorSpec(shape=(None, 128), dtype=tf.int32, name=None), 'token_type_ids': TensorSpec(shape=(None, 128), dtype=tf.int32, name=None), 'attention_mask': TensorSpec(shape=(None, 128), dtype=tf.int32, name=None)}, TensorSpec(shape=(None,), dtype=tf.int64, name=None))>\n"
          ]
        }
      ],
      "source": [
        "# Create a TensorFlow Dataset\n",
        "train_dataset = tf.data.Dataset.from_tensor_slices((dict(train_encodings), train_labels)).shuffle(100).batch(32)\n",
        "val_dataset = tf.data.Dataset.from_tensor_slices((dict(val_encodings), val_labels)).batch(64)\n",
        "test_dataset = tf.data.Dataset.from_tensor_slices((dict(test_encodings), test_labels)).batch(64)\n",
        "print(train_dataset)\n",
        "print(val_dataset)\n",
        "print(test_dataset)"
      ]
    },
    {
      "cell_type": "code",
      "execution_count": 12,
      "metadata": {
        "id": "4xVtQK5QKwa5"
      },
      "outputs": [],
      "source": [
        "# Define the BERT input\n",
        "bert_input = Input(shape=(max_length,), dtype=tf.int32, name=\"input_ids\")\n",
        "bert_output = bert_model(bert_input)[\"pooler_output\"]\n",
        "\n",
        "# Reshape the BERT output to meet Conv1D requirements\n",
        "bert_output = bert_model(dict(train_encodings))\n",
        "reshape_layer = tf.keras.layers.Lambda(lambda x: tf.expand_dims(x['last_hidden_state'], axis=-1))(bert_output)\n",
        "\n"
      ]
    },
    {
      "cell_type": "code",
      "execution_count": 21,
      "metadata": {
        "id": "in2PCuqQLkLb"
      },
      "outputs": [],
      "source": [
        "# Repeat the second tensor to match the shape of the first tensor\n",
        "tensor2_repeated = RepeatVector(128)(bert_output[1])\n",
        "\n",
        "# Now, both tensors should have the same shape along axis 1\n",
        "# Concatenate the two tensors\n",
        "concatenated_tensor = Concatenate()([bert_output[0], tensor2_repeated])\n",
        "\n",
        "# Additional layers for your CNN\n",
        "conv1d = Conv1D(128, 5, activation='relu')(concatenated_tensor)\n",
        "global_max_pooling = GlobalMaxPooling1D()(conv1d)\n",
        "dense = Dense(64, activation='relu')(global_max_pooling)\n",
        "output = Dense(1, activation='sigmoid')(dense)\n",
        "\n"
      ]
    },
    {
      "cell_type": "code",
      "source": [
        "from tensorflow.keras.models import Model\n",
        "from tensorflow.keras.layers import Input, RepeatVector, Concatenate, Conv1D, GlobalMaxPooling1D, Dense\n",
        "# Create the model\n",
        "# Wrap the output tensor in a Keras layer\n",
        "output_layer = tf.keras.layers.Lambda(lambda x: x)(output)\n",
        "model = Model(inputs=bert_input, outputs=output)\n",
        "\n"
      ],
      "metadata": {
        "colab": {
          "base_uri": "https://localhost:8080/",
          "height": 1000
        },
        "id": "Plr-D1U9i4Qt",
        "outputId": "61d5151c-b945-4d27-b13f-3ea43de9e6d0"
      },
      "execution_count": 24,
      "outputs": [
        {
          "output_type": "error",
          "ename": "ValueError",
          "evalue": "ignored",
          "traceback": [
            "\u001b[0;31m---------------------------------------------------------------------------\u001b[0m",
            "\u001b[0;31mValueError\u001b[0m                                Traceback (most recent call last)",
            "\u001b[0;32m<ipython-input-24-79a13207b9be>\u001b[0m in \u001b[0;36m<cell line: 6>\u001b[0;34m()\u001b[0m\n\u001b[1;32m      4\u001b[0m \u001b[0;31m# Wrap the output tensor in a Keras layer\u001b[0m\u001b[0;34m\u001b[0m\u001b[0;34m\u001b[0m\u001b[0m\n\u001b[1;32m      5\u001b[0m \u001b[0moutput_layer\u001b[0m \u001b[0;34m=\u001b[0m \u001b[0mtf\u001b[0m\u001b[0;34m.\u001b[0m\u001b[0mkeras\u001b[0m\u001b[0;34m.\u001b[0m\u001b[0mlayers\u001b[0m\u001b[0;34m.\u001b[0m\u001b[0mLambda\u001b[0m\u001b[0;34m(\u001b[0m\u001b[0;32mlambda\u001b[0m \u001b[0mx\u001b[0m\u001b[0;34m:\u001b[0m \u001b[0mx\u001b[0m\u001b[0;34m)\u001b[0m\u001b[0;34m(\u001b[0m\u001b[0moutput\u001b[0m\u001b[0;34m)\u001b[0m\u001b[0;34m\u001b[0m\u001b[0;34m\u001b[0m\u001b[0m\n\u001b[0;32m----> 6\u001b[0;31m \u001b[0mmodel\u001b[0m \u001b[0;34m=\u001b[0m \u001b[0mModel\u001b[0m\u001b[0;34m(\u001b[0m\u001b[0minputs\u001b[0m\u001b[0;34m=\u001b[0m\u001b[0mbert_input\u001b[0m\u001b[0;34m,\u001b[0m \u001b[0moutputs\u001b[0m\u001b[0;34m=\u001b[0m\u001b[0moutput\u001b[0m\u001b[0;34m)\u001b[0m\u001b[0;34m\u001b[0m\u001b[0;34m\u001b[0m\u001b[0m\n\u001b[0m\u001b[1;32m      7\u001b[0m \u001b[0;34m\u001b[0m\u001b[0m\n",
            "\u001b[0;32m/usr/local/lib/python3.10/dist-packages/tensorflow/python/trackable/base.py\u001b[0m in \u001b[0;36m_method_wrapper\u001b[0;34m(self, *args, **kwargs)\u001b[0m\n\u001b[1;32m    202\u001b[0m     \u001b[0mself\u001b[0m\u001b[0;34m.\u001b[0m\u001b[0m_self_setattr_tracking\u001b[0m \u001b[0;34m=\u001b[0m \u001b[0;32mFalse\u001b[0m  \u001b[0;31m# pylint: disable=protected-access\u001b[0m\u001b[0;34m\u001b[0m\u001b[0;34m\u001b[0m\u001b[0m\n\u001b[1;32m    203\u001b[0m     \u001b[0;32mtry\u001b[0m\u001b[0;34m:\u001b[0m\u001b[0;34m\u001b[0m\u001b[0;34m\u001b[0m\u001b[0m\n\u001b[0;32m--> 204\u001b[0;31m       \u001b[0mresult\u001b[0m \u001b[0;34m=\u001b[0m \u001b[0mmethod\u001b[0m\u001b[0;34m(\u001b[0m\u001b[0mself\u001b[0m\u001b[0;34m,\u001b[0m \u001b[0;34m*\u001b[0m\u001b[0margs\u001b[0m\u001b[0;34m,\u001b[0m \u001b[0;34m**\u001b[0m\u001b[0mkwargs\u001b[0m\u001b[0;34m)\u001b[0m\u001b[0;34m\u001b[0m\u001b[0;34m\u001b[0m\u001b[0m\n\u001b[0m\u001b[1;32m    205\u001b[0m     \u001b[0;32mfinally\u001b[0m\u001b[0;34m:\u001b[0m\u001b[0;34m\u001b[0m\u001b[0;34m\u001b[0m\u001b[0m\n\u001b[1;32m    206\u001b[0m       \u001b[0mself\u001b[0m\u001b[0;34m.\u001b[0m\u001b[0m_self_setattr_tracking\u001b[0m \u001b[0;34m=\u001b[0m \u001b[0mprevious_value\u001b[0m  \u001b[0;31m# pylint: disable=protected-access\u001b[0m\u001b[0;34m\u001b[0m\u001b[0;34m\u001b[0m\u001b[0m\n",
            "\u001b[0;32m/usr/local/lib/python3.10/dist-packages/keras/src/engine/functional.py\u001b[0m in \u001b[0;36m__init__\u001b[0;34m(self, inputs, outputs, name, trainable, **kwargs)\u001b[0m\n\u001b[1;32m    165\u001b[0m                     \u001b[0minputs\u001b[0m\u001b[0;34m,\u001b[0m \u001b[0moutputs\u001b[0m\u001b[0;34m\u001b[0m\u001b[0;34m\u001b[0m\u001b[0m\n\u001b[1;32m    166\u001b[0m                 )\n\u001b[0;32m--> 167\u001b[0;31m         \u001b[0mself\u001b[0m\u001b[0;34m.\u001b[0m\u001b[0m_init_graph_network\u001b[0m\u001b[0;34m(\u001b[0m\u001b[0minputs\u001b[0m\u001b[0;34m,\u001b[0m \u001b[0moutputs\u001b[0m\u001b[0;34m)\u001b[0m\u001b[0;34m\u001b[0m\u001b[0;34m\u001b[0m\u001b[0m\n\u001b[0m\u001b[1;32m    168\u001b[0m \u001b[0;34m\u001b[0m\u001b[0m\n\u001b[1;32m    169\u001b[0m     \u001b[0;34m@\u001b[0m\u001b[0mtf\u001b[0m\u001b[0;34m.\u001b[0m\u001b[0m__internal__\u001b[0m\u001b[0;34m.\u001b[0m\u001b[0mtracking\u001b[0m\u001b[0;34m.\u001b[0m\u001b[0mno_automatic_dependency_tracking\u001b[0m\u001b[0;34m\u001b[0m\u001b[0;34m\u001b[0m\u001b[0m\n",
            "\u001b[0;32m/usr/local/lib/python3.10/dist-packages/tensorflow/python/trackable/base.py\u001b[0m in \u001b[0;36m_method_wrapper\u001b[0;34m(self, *args, **kwargs)\u001b[0m\n\u001b[1;32m    202\u001b[0m     \u001b[0mself\u001b[0m\u001b[0;34m.\u001b[0m\u001b[0m_self_setattr_tracking\u001b[0m \u001b[0;34m=\u001b[0m \u001b[0;32mFalse\u001b[0m  \u001b[0;31m# pylint: disable=protected-access\u001b[0m\u001b[0;34m\u001b[0m\u001b[0;34m\u001b[0m\u001b[0m\n\u001b[1;32m    203\u001b[0m     \u001b[0;32mtry\u001b[0m\u001b[0;34m:\u001b[0m\u001b[0;34m\u001b[0m\u001b[0;34m\u001b[0m\u001b[0m\n\u001b[0;32m--> 204\u001b[0;31m       \u001b[0mresult\u001b[0m \u001b[0;34m=\u001b[0m \u001b[0mmethod\u001b[0m\u001b[0;34m(\u001b[0m\u001b[0mself\u001b[0m\u001b[0;34m,\u001b[0m \u001b[0;34m*\u001b[0m\u001b[0margs\u001b[0m\u001b[0;34m,\u001b[0m \u001b[0;34m**\u001b[0m\u001b[0mkwargs\u001b[0m\u001b[0;34m)\u001b[0m\u001b[0;34m\u001b[0m\u001b[0;34m\u001b[0m\u001b[0m\n\u001b[0m\u001b[1;32m    205\u001b[0m     \u001b[0;32mfinally\u001b[0m\u001b[0;34m:\u001b[0m\u001b[0;34m\u001b[0m\u001b[0;34m\u001b[0m\u001b[0m\n\u001b[1;32m    206\u001b[0m       \u001b[0mself\u001b[0m\u001b[0;34m.\u001b[0m\u001b[0m_self_setattr_tracking\u001b[0m \u001b[0;34m=\u001b[0m \u001b[0mprevious_value\u001b[0m  \u001b[0;31m# pylint: disable=protected-access\u001b[0m\u001b[0;34m\u001b[0m\u001b[0;34m\u001b[0m\u001b[0m\n",
            "\u001b[0;32m/usr/local/lib/python3.10/dist-packages/keras/src/engine/functional.py\u001b[0m in \u001b[0;36m_init_graph_network\u001b[0;34m(self, inputs, outputs)\u001b[0m\n\u001b[1;32m    207\u001b[0m                 \u001b[0mbase_layer_utils\u001b[0m\u001b[0;34m.\u001b[0m\u001b[0mcreate_keras_history\u001b[0m\u001b[0;34m(\u001b[0m\u001b[0mself\u001b[0m\u001b[0;34m.\u001b[0m\u001b[0m_nested_outputs\u001b[0m\u001b[0;34m)\u001b[0m\u001b[0;34m\u001b[0m\u001b[0;34m\u001b[0m\u001b[0m\n\u001b[1;32m    208\u001b[0m \u001b[0;34m\u001b[0m\u001b[0m\n\u001b[0;32m--> 209\u001b[0;31m         \u001b[0mself\u001b[0m\u001b[0;34m.\u001b[0m\u001b[0m_validate_graph_inputs_and_outputs\u001b[0m\u001b[0;34m(\u001b[0m\u001b[0;34m)\u001b[0m\u001b[0;34m\u001b[0m\u001b[0;34m\u001b[0m\u001b[0m\n\u001b[0m\u001b[1;32m    210\u001b[0m \u001b[0;34m\u001b[0m\u001b[0m\n\u001b[1;32m    211\u001b[0m         \u001b[0;31m# A Network does not create weights of its own, thus it is already\u001b[0m\u001b[0;34m\u001b[0m\u001b[0;34m\u001b[0m\u001b[0m\n",
            "\u001b[0;32m/usr/local/lib/python3.10/dist-packages/keras/src/engine/functional.py\u001b[0m in \u001b[0;36m_validate_graph_inputs_and_outputs\u001b[0;34m(self)\u001b[0m\n\u001b[1;32m    870\u001b[0m             \u001b[0;32mif\u001b[0m \u001b[0;32mnot\u001b[0m \u001b[0mhasattr\u001b[0m\u001b[0;34m(\u001b[0m\u001b[0mx\u001b[0m\u001b[0;34m,\u001b[0m \u001b[0;34m\"_keras_history\"\u001b[0m\u001b[0;34m)\u001b[0m\u001b[0;34m:\u001b[0m\u001b[0;34m\u001b[0m\u001b[0;34m\u001b[0m\u001b[0m\n\u001b[1;32m    871\u001b[0m                 \u001b[0mcls_name\u001b[0m \u001b[0;34m=\u001b[0m \u001b[0mself\u001b[0m\u001b[0;34m.\u001b[0m\u001b[0m__class__\u001b[0m\u001b[0;34m.\u001b[0m\u001b[0m__name__\u001b[0m\u001b[0;34m\u001b[0m\u001b[0;34m\u001b[0m\u001b[0m\n\u001b[0;32m--> 872\u001b[0;31m                 raise ValueError(\n\u001b[0m\u001b[1;32m    873\u001b[0m                     \u001b[0;34mf\"Output tensors of a {cls_name} model must be \"\u001b[0m\u001b[0;34m\u001b[0m\u001b[0;34m\u001b[0m\u001b[0m\n\u001b[1;32m    874\u001b[0m                     \u001b[0;34m\"the output of a TensorFlow `Layer` \"\u001b[0m\u001b[0;34m\u001b[0m\u001b[0;34m\u001b[0m\u001b[0m\n",
            "\u001b[0;31mValueError\u001b[0m: Output tensors of a Functional model must be the output of a TensorFlow `Layer` (thus holding past layer metadata). Found: [[0.24566522]\n [0.3616072 ]\n [0.1943388 ]\n [0.27812433]\n [0.24480736]\n [0.27880958]\n [0.3023604 ]\n [0.16726716]\n [0.2908261 ]\n [0.2167031 ]\n [0.2066816 ]\n [0.2153906 ]\n [0.20865111]\n [0.2429013 ]\n [0.33406618]\n [0.30760652]\n [0.34995046]\n [0.2972668 ]\n [0.33880386]\n [0.3393715 ]\n [0.26519012]\n [0.32210717]\n [0.23472863]\n [0.24239923]\n [0.30312192]\n [0.17925107]\n [0.43886426]\n [0.26192474]\n [0.30028877]\n [0.2799931 ]\n [0.2844416 ]\n [0.24316953]\n [0.28651926]\n [0.23045337]\n [0.2865837 ]\n [0.26923135]\n [0.27233627]\n [0.19163534]\n [0.39413142]\n [0.24648252]\n [0.28423578]\n [0.3979396 ]\n [0.3662597 ]\n [0.22301435]\n [0.32552317]\n [0.24589446]\n [0.25085184]\n [0.37896606]\n [0.21042763]\n [0.24105102]\n [0.2525622 ]\n [0.3889513 ]\n [0.28324693]\n [0.35745794]\n [0.43470266]\n [0.35642707]\n [0.22772178]\n [0.391882  ]\n [0.3008072 ]\n [0.23081066]\n [0.28959918]\n [0.30244687]\n [0.28777045]\n [0.32165992]\n [0.23627888]\n [0.27893162]\n [0.33141375]\n [0.5406421 ]\n [0.20825255]\n [0.28979027]\n [0.1883344 ]\n [0.24817291]\n [0.32497883]\n [0.23333581]\n [0.26115254]\n [0.3229987 ]\n [0.20603727]\n [0.2260564 ]\n [0.19391145]\n [0.36825278]\n [0.20154724]\n [0.23233473]\n [0.2842662 ]\n [0.21581179]\n [0.27685258]\n [0.22668715]\n [0.31259182]\n [0.3934747 ]\n [0.29089424]\n [0.24017923]\n [0.31318718]\n [0.30419797]\n [0.322228  ]\n [0.25173023]\n [0.29322344]\n [0.26708508]\n [0.26195946]\n [0.29937738]\n [0.2913144 ]\n [0.31584033]\n [0.27481377]\n [0.2414191 ]\n [0.23999155]\n [0.32649246]\n [0.18754487]\n [0.26188082]\n [0.3346824 ]\n [0.2571107 ]\n [0.28050977]\n [0.30324268]\n [0.30138522]\n [0.27165282]\n [0.23661585]\n [0.29015446]\n [0.17477112]\n [0.23576146]\n [0.25989422]\n [0.27638853]\n [0.22930954]\n [0.18301716]\n [0.19954744]\n [0.32207805]\n [0.39336243]\n [0.27362034]\n [0.26666495]\n [0.3827761 ]\n [0.18876866]\n [0.34494048]\n [0.43023226]\n [0.20798616]\n [0.31877774]\n [0.22466132]\n [0.26278722]\n [0.34171915]\n [0.2929595 ]\n [0.31018662]\n [0.25454214]\n [0.29952887]\n [0.24174437]\n [0.29741982]\n [0.21772727]\n [0.19889583]\n [0.21763933]\n [0.31512123]\n [0.26799577]\n [0.20436804]\n [0.21835518]\n [0.24611425]\n [0.2246264 ]\n [0.21959874]\n [0.2506626 ]\n [0.33230364]\n [0.22661988]\n [0.21945377]\n [0.2458201 ]\n [0.24162233]\n [0.2805542 ]\n [0.27114078]\n [0.35892293]\n [0.1987832 ]\n [0.24060787]\n [0.33635238]\n [0.29646543]\n [0.26595697]\n [0.2804005 ]\n [0.2023854 ]\n [0.24325271]\n [0.27768424]\n [0.30366737]\n [0.22716898]\n [0.19360146]\n [0.21277285]\n [0.25031942]\n [0.2401479 ]\n [0.34803647]\n [0.22002594]\n [0.283809  ]\n [0.17977522]\n [0.2428248 ]\n [0.20712052]\n [0.3083111 ]\n [0.33786175]\n [0.22691281]\n [0.2338784 ]\n [0.31721693]\n [0.2541621 ]\n [0.2958195 ]\n [0.23625745]\n [0.22368833]\n [0.25860286]\n [0.19651575]\n [0.21482487]\n [0.25091463]\n [0.2082258 ]\n [0.22834891]\n [0.34018695]\n [0.28611207]\n [0.26122195]\n [0.22004339]\n [0.30277213]\n [0.26663384]\n [0.3184434 ]\n [0.269172  ]\n [0.27522573]\n [0.17450567]\n [0.38701844]\n [0.27876928]\n [0.24686882]\n [0.24457262]\n [0.2905573 ]\n [0.32916114]\n [0.2820055 ]\n [0.3114856 ]\n [0.3280736 ]\n [0.32526243]\n [0.21069077]\n [0.2481266 ]\n [0.2597154 ]\n [0.31959176]\n [0.2615834 ]\n [0.4267546 ]\n [0.16218987]\n [0.37977442]\n [0.32145157]\n [0.26681373]\n [0.38275167]\n [0.2912476 ]\n [0.2716476 ]\n [0.29504815]\n [0.30850932]\n [0.25299102]\n [0.29876408]\n [0.2172341 ]\n [0.30952018]\n [0.26768625]\n [0.3397963 ]\n [0.30669537]\n [0.3707658 ]\n [0.24456741]\n [0.318693  ]\n [0.24494177]\n [0.39985967]\n [0.20964184]\n [0.29171586]\n [0.20521274]\n [0.30450082]\n [0.31196234]\n [0.31656355]\n [0.21138564]\n [0.27744794]\n [0.23883042]\n [0.25157183]\n [0.32538912]\n [0.36712044]\n [0.2514391 ]\n [0.19683577]\n [0.36770228]\n [0.28408077]\n [0.2955596 ]\n [0.23502177]\n [0.32966444]\n [0.39008695]\n [0.2666201 ]\n [0.21172768]\n [0.2864628 ]\n [0.2643376 ]\n [0.22746049]\n [0.2620606 ]\n [0.41235355]\n [0.27622104]\n [0.30827734]\n [0.26566795]\n [0.2421676 ]\n [0.24666698]\n [0.31272212]\n [0.293675  ]\n [0.25748214]\n [0.21365361]\n [0.25421754]\n [0.2240621 ]\n [0.16199352]\n [0.25106412]\n [0.2547314 ]\n [0.28662696]\n [0.29974678]\n [0.22086759]\n [0.32426903]\n [0.36978114]\n [0.2536903 ]\n [0.31416366]\n [0.23879376]\n [0.23025411]\n [0.24211177]\n [0.24126619]\n [0.36272162]\n [0.2725449 ]\n [0.42521983]\n [0.35076386]\n [0.28410578]\n [0.2855862 ]\n [0.3242357 ]\n [0.29197922]\n [0.2686854 ]\n [0.2908983 ]\n [0.239123  ]\n [0.30273244]\n [0.24796075]\n [0.22780707]\n [0.28306103]\n [0.36191282]\n [0.28246915]\n [0.21786065]\n [0.3701035 ]\n [0.26361454]\n [0.300803  ]\n [0.31896794]\n [0.22650754]\n [0.22992207]\n [0.21089709]\n [0.3282034 ]\n [0.25551587]\n [0.33411852]\n [0.23449671]\n [0.39061776]\n [0.27737322]\n [0.26129925]\n [0.22152653]\n [0.24703729]\n [0.3981466 ]\n [0.29631266]\n [0.30317527]\n [0.20781556]\n [0.208926  ]\n [0.227233  ]\n [0.20347382]\n [0.3389239 ]\n [0.20956655]\n [0.32387865]\n [0.24114135]\n [0.34096158]\n [0.31794778]\n [0.35481074]\n [0.22379848]\n [0.1775832 ]\n [0.24366648]\n [0.43410343]\n [0.23387234]\n [0.29401177]\n [0.30074182]\n [0.23613656]\n [0.23181415]\n [0.33031574]\n [0.27498406]\n [0.22557068]\n [0.2573172 ]\n [0.22012506]\n [0.2826807 ]\n [0.29382685]\n [0.23398729]\n [0.36879566]\n [0.2770723 ]\n [0.22053945]\n [0.21222967]\n [0.32902658]\n [0.32942212]\n [0.2796335 ]\n [0.39885655]\n [0.3740916 ]\n [0.27453274]\n [0.16928834]\n [0.3291909 ]\n [0.30804846]\n [0.30448574]\n [0.37056115]\n [0.18404597]\n [0.21101472]\n [0.2142498 ]\n [0.286728  ]\n [0.29865712]\n [0.18149011]\n [0.2859321 ]\n [0.3399959 ]\n [0.2368164 ]\n [0.3168671 ]\n [0.2756651 ]\n [0.33495128]\n [0.35210022]\n [0.2004722 ]\n [0.30781013]\n [0.24705249]\n [0.21594521]\n [0.3854337 ]\n [0.27651092]\n [0.3651018 ]\n [0.26195723]\n [0.3295919 ]\n [0.3021353 ]\n [0.23796737]\n [0.27267826]\n [0.3527741 ]\n [0.3220735 ]\n [0.2691705 ]\n [0.25453433]\n [0.2504283 ]\n [0.3080108 ]\n [0.32754156]\n [0.28972706]\n [0.25473276]\n [0.3049859 ]\n [0.3319116 ]\n [0.34365883]\n [0.23874335]\n [0.27678558]\n [0.24537162]\n [0.34630176]\n [0.2549147 ]\n [0.22461644]\n [0.26619837]\n [0.28944692]\n [0.28814813]\n [0.34721357]\n [0.23140608]\n [0.20081805]\n [0.25861022]\n [0.31975022]\n [0.24095672]\n [0.33063602]\n [0.3423106 ]\n [0.20103475]\n [0.2866434 ]\n [0.26955113]\n [0.33163795]\n [0.23641399]\n [0.31312245]\n [0.24424686]\n [0.20234284]\n [0.31951934]\n [0.30407986]\n [0.28237772]\n [0.25323683]\n [0.21877462]\n [0.3413262 ]\n [0.36788142]\n [0.2736701 ]\n [0.24934435]\n [0.24863563]\n [0.24571499]\n [0.4200221 ]\n [0.2512358 ]\n [0.23971467]\n [0.26043788]\n [0.22473292]\n [0.34919044]\n [0.32418713]\n [0.2310834 ]\n [0.21702006]\n [0.19861338]\n [0.22486572]\n [0.290136  ]\n [0.3486822 ]\n [0.24849023]\n [0.3124154 ]\n [0.2901769 ]\n [0.3569111 ]\n [0.30634627]\n [0.28396958]\n [0.2903774 ]\n [0.28955093]\n [0.23837012]\n [0.26442978]\n [0.21867083]\n [0.22988904]\n [0.23769885]\n [0.31122056]\n [0.24161607]\n [0.33940482]\n [0.29271182]\n [0.2864929 ]\n [0.2921726 ]\n [0.18009411]\n [0.26822653]\n [0.2898911 ]\n [0.2511241 ]\n [0.2746734 ]\n [0.26748917]\n [0.3586526 ]\n [0.20940088]\n [0.22065683]\n [0.25762737]\n [0.20033865]\n [0.27663317]\n [0.355107  ]\n [0.32147917]\n [0.3173203 ]\n [0.27487627]\n [0.2808018 ]\n [0.26306352]\n [0.30078492]\n [0.38199598]\n [0.30501813]\n [0.2552284 ]\n [0.32127613]\n [0.23894274]\n [0.38950878]\n [0.25226128]\n [0.2939966 ]\n [0.35590878]\n [0.41037023]\n [0.36498427]\n [0.25783113]\n [0.22258201]\n [0.26264393]\n [0.2558051 ]\n [0.23047589]\n [0.3234157 ]\n [0.26925412]\n [0.49248567]\n [0.32190502]\n [0.25863257]\n [0.3868778 ]\n [0.28723952]\n [0.2757688 ]\n [0.2554045 ]\n [0.18647893]\n [0.34355095]\n [0.21495804]\n [0.38613296]\n [0.2944937 ]\n [0.22048722]\n [0.26806822]\n [0.2744372 ]\n [0.2988312 ]\n [0.44518533]\n [0.28955877]\n [0.3288195 ]\n [0.29782528]\n [0.35709187]\n [0.28789923]\n [0.21916166]\n [0.22953622]\n [0.24459413]\n [0.26986584]\n [0.206935  ]\n [0.38399678]\n [0.25211328]\n [0.2767852 ]\n [0.29274213]\n [0.25226888]\n [0.30625153]\n [0.2504052 ]\n [0.30075142]\n [0.26861364]\n [0.4325299 ]\n [0.3377382 ]\n [0.22383763]\n [0.2672001 ]\n [0.19198808]\n [0.19028337]\n [0.23808505]\n [0.24502067]\n [0.30838463]\n [0.31452522]\n [0.35466477]\n [0.2812208 ]\n [0.23954302]\n [0.34239474]\n [0.35001376]\n [0.3907846 ]\n [0.27236888]\n [0.18823802]\n [0.30462903]\n [0.32860756]\n [0.2852876 ]\n [0.30823982]\n [0.2594173 ]\n [0.27717355]\n [0.31701717]\n [0.29736787]\n [0.27991894]\n [0.20888275]\n [0.342591  ]\n [0.28037953]\n [0.272366  ]\n [0.24998212]\n [0.28207943]\n [0.33398   ]\n [0.37608925]\n [0.38906312]\n [0.26124287]\n [0.27787983]\n [0.16584478]\n [0.32686818]\n [0.24538602]\n [0.3335094 ]\n [0.2049057 ]\n [0.26782724]\n [0.29907578]\n [0.26330712]\n [0.28027615]\n [0.29281315]\n [0.30417663]\n [0.31008074]\n [0.31082433]\n [0.31112432]\n [0.35468826]\n [0.2256214 ]\n [0.18254012]\n [0.35214224]\n [0.2654481 ]\n [0.15403679]\n [0.37310693]\n [0.2519163 ]\n [0.26952028]\n [0.33467937]\n [0.26736155]\n [0.26948157]\n [0.2652931 ]\n [0.2174274 ]\n [0.30165645]\n [0.292669  ]\n [0.2891438 ]\n [0.20200804]\n [0.22428408]\n [0.4412742 ]\n [0.25306338]\n [0.22519384]\n [0.2409443 ]\n [0.23242506]\n [0.30365387]\n [0.30563316]\n [0.18733728]\n [0.22654441]\n [0.21858792]\n [0.3266254 ]\n [0.38018692]\n [0.2493657 ]\n [0.25024107]\n [0.36478582]\n [0.30120912]\n [0.27220914]]"
          ]
        }
      ]
    },
    {
      "cell_type": "code",
      "source": [
        "# Compile the model with appropriate loss and metrics\n",
        "model.compile(optimizer='adam', loss='binary_crossentropy', metrics=['accuracy'])\n",
        "\n"
      ],
      "metadata": {
        "id": "pLipWHMsi6Su"
      },
      "execution_count": null,
      "outputs": []
    },
    {
      "cell_type": "code",
      "source": [
        "# Train the model with appropriate batch size, and other parameters\n",
        "model.fit(train_dataset, validation_data=val_dataset, epochs=5, batch_size=32)  # Adjust batch size as needed\n",
        "\n"
      ],
      "metadata": {
        "id": "b3nLO4Ezi9aX"
      },
      "execution_count": null,
      "outputs": []
    },
    {
      "cell_type": "code",
      "source": [
        "# Evaluate the model\n",
        "y_pred = model.predict(test_dataset)\n",
        "y_pred = (y_pred > 0.5).astype(int)\n",
        "\n",
        "# Assuming you have test_labels for evaluation\n",
        "f1 = f1_score(test_labels, y_pred)\n",
        "print(\"F1 Score:\", f1)"
      ],
      "metadata": {
        "id": "NC0avD3UjAgb"
      },
      "execution_count": null,
      "outputs": []
    },
    {
      "cell_type": "code",
      "execution_count": 20,
      "metadata": {
        "id": "qVR1Lit5JJ3E",
        "colab": {
          "base_uri": "https://localhost:8080/",
          "height": 227
        },
        "outputId": "02b2034e-50f2-4799-92d8-a97d7b1741e7"
      },
      "outputs": [
        {
          "output_type": "error",
          "ename": "NameError",
          "evalue": "ignored",
          "traceback": [
            "\u001b[0;31m---------------------------------------------------------------------------\u001b[0m",
            "\u001b[0;31mNameError\u001b[0m                                 Traceback (most recent call last)",
            "\u001b[0;32m<ipython-input-20-cbe8fb14850f>\u001b[0m in \u001b[0;36m<cell line: 2>\u001b[0;34m()\u001b[0m\n\u001b[1;32m      1\u001b[0m \u001b[0;31m# Train the model\u001b[0m\u001b[0;34m\u001b[0m\u001b[0;34m\u001b[0m\u001b[0m\n\u001b[0;32m----> 2\u001b[0;31m \u001b[0mmodel\u001b[0m\u001b[0;34m.\u001b[0m\u001b[0mfit\u001b[0m\u001b[0;34m(\u001b[0m\u001b[0mtrain_dataset\u001b[0m\u001b[0;34m,\u001b[0m \u001b[0mvalidation_data\u001b[0m\u001b[0;34m=\u001b[0m\u001b[0mval_dataset\u001b[0m\u001b[0;34m,\u001b[0m \u001b[0mepochs\u001b[0m\u001b[0;34m=\u001b[0m\u001b[0;36m5\u001b[0m\u001b[0;34m)\u001b[0m\u001b[0;34m\u001b[0m\u001b[0;34m\u001b[0m\u001b[0m\n\u001b[0m\u001b[1;32m      3\u001b[0m \u001b[0;34m\u001b[0m\u001b[0m\n\u001b[1;32m      4\u001b[0m \u001b[0;34m\u001b[0m\u001b[0m\n",
            "\u001b[0;31mNameError\u001b[0m: name 'model' is not defined"
          ]
        }
      ],
      "source": [
        "# Train the model\n",
        "model.fit(train_dataset, validation_data=val_dataset, epochs=5)\n",
        "\n",
        "\n"
      ]
    },
    {
      "cell_type": "code",
      "execution_count": null,
      "metadata": {
        "id": "rGwxBiI-KkAZ"
      },
      "outputs": [],
      "source": [
        "# Evaluate the model\n",
        "y_pred = model.predict(test_dataset)\n",
        "y_pred = (y_pred > 0.5).astype(int)\n",
        "f1 = f1_score(test_labels, y_pred)\n",
        "print(\"F1 Score:\", f1)"
      ]
    }
  ],
  "metadata": {
    "colab": {
      "provenance": []
    },
    "kernelspec": {
      "display_name": "Python 3 (ipykernel)",
      "language": "python",
      "name": "python3"
    },
    "language_info": {
      "codemirror_mode": {
        "name": "ipython",
        "version": 3
      },
      "file_extension": ".py",
      "mimetype": "text/x-python",
      "name": "python",
      "nbconvert_exporter": "python",
      "pygments_lexer": "ipython3",
      "version": "3.10.12"
    }
  },
  "nbformat": 4,
  "nbformat_minor": 0
}