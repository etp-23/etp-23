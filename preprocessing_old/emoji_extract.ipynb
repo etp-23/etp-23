{
 "cells": [
  {
   "cell_type": "code",
   "execution_count": 38,
   "outputs": [],
   "source": [
    "import pandas as pd\n",
    "import emoji"
   ],
   "metadata": {
    "collapsed": false,
    "ExecuteTime": {
     "end_time": "2023-10-27T13:29:00.413231Z",
     "start_time": "2023-10-27T13:29:00.411284Z"
    }
   },
   "id": "e094445716b0d9c0"
  },
  {
   "cell_type": "code",
   "execution_count": 39,
   "id": "initial_id",
   "metadata": {
    "collapsed": true,
    "ExecuteTime": {
     "end_time": "2023-10-27T13:29:00.467520Z",
     "start_time": "2023-10-27T13:29:00.416686Z"
    }
   },
   "outputs": [],
   "source": [
    "df = pd.read_csv('data/edos_labelled_aggregated.csv')"
   ]
  },
  {
   "cell_type": "code",
   "execution_count": 41,
   "outputs": [
    {
     "data": {
      "text/plain": "916"
     },
     "execution_count": 41,
     "metadata": {},
     "output_type": "execute_result"
    }
   ],
   "source": [
    "sum([emoji.emoji_count(text) for text in df['text']])"
   ],
   "metadata": {
    "collapsed": false,
    "ExecuteTime": {
     "end_time": "2023-10-27T13:30:44.178799Z",
     "start_time": "2023-10-27T13:30:43.546612Z"
    }
   },
   "id": "3e1083b726cdc209"
  }
 ],
 "metadata": {
  "kernelspec": {
   "display_name": "Python 3",
   "language": "python",
   "name": "python3"
  },
  "language_info": {
   "codemirror_mode": {
    "name": "ipython",
    "version": 2
   },
   "file_extension": ".py",
   "mimetype": "text/x-python",
   "name": "python",
   "nbconvert_exporter": "python",
   "pygments_lexer": "ipython2",
   "version": "2.7.6"
  }
 },
 "nbformat": 4,
 "nbformat_minor": 5
}
