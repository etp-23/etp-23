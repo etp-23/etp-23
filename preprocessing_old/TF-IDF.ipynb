{
 "cells": [
  {
   "cell_type": "code",
   "execution_count": 125,
   "id": "initial_id",
   "metadata": {
    "collapsed": true,
    "ExecuteTime": {
     "end_time": "2023-10-18T18:11:43.508987Z",
     "start_time": "2023-10-18T18:11:43.493312Z"
    }
   },
   "outputs": [],
   "source": [
    "from sklearn.feature_extraction.text import TfidfVectorizer\n",
    "import pandas as pd\n",
    "import re\n",
    "import nltk\n",
    "from nltk.corpus import stopwords\n",
    "from nltk.stem import WordNetLemmatizer\n",
    "from nltk.stem import PorterStemmer\n",
    "from nltk.tokenize import word_tokenize"
   ]
  },
  {
   "cell_type": "code",
   "execution_count": 126,
   "outputs": [],
   "source": [
    "df = pd.read_csv('first_1000.csv')"
   ],
   "metadata": {
    "collapsed": false,
    "ExecuteTime": {
     "end_time": "2023-10-18T18:11:43.511191Z",
     "start_time": "2023-10-18T18:11:43.497014Z"
    }
   },
   "id": "7a46c1d99deaaabb"
  },
  {
   "cell_type": "code",
   "execution_count": 127,
   "outputs": [
    {
     "data": {
      "text/plain": "   Unnamed: 0                                               text  label_sexist\n0           0  In Nigeria, if you rape a woman, the men rape ...         False\n1           1                            Then, she's a keeper. 😉         False\n2           2  This is like the Metallica video where the poo...         False\n3           3                                             woman?         False\n4           4                     I bet she wished she had a gun         False",
      "text/html": "<div>\n<style scoped>\n    .dataframe tbody tr th:only-of-type {\n        vertical-align: middle;\n    }\n\n    .dataframe tbody tr th {\n        vertical-align: top;\n    }\n\n    .dataframe thead th {\n        text-align: right;\n    }\n</style>\n<table border=\"1\" class=\"dataframe\">\n  <thead>\n    <tr style=\"text-align: right;\">\n      <th></th>\n      <th>Unnamed: 0</th>\n      <th>text</th>\n      <th>label_sexist</th>\n    </tr>\n  </thead>\n  <tbody>\n    <tr>\n      <th>0</th>\n      <td>0</td>\n      <td>In Nigeria, if you rape a woman, the men rape ...</td>\n      <td>False</td>\n    </tr>\n    <tr>\n      <th>1</th>\n      <td>1</td>\n      <td>Then, she's a keeper. 😉</td>\n      <td>False</td>\n    </tr>\n    <tr>\n      <th>2</th>\n      <td>2</td>\n      <td>This is like the Metallica video where the poo...</td>\n      <td>False</td>\n    </tr>\n    <tr>\n      <th>3</th>\n      <td>3</td>\n      <td>woman?</td>\n      <td>False</td>\n    </tr>\n    <tr>\n      <th>4</th>\n      <td>4</td>\n      <td>I bet she wished she had a gun</td>\n      <td>False</td>\n    </tr>\n  </tbody>\n</table>\n</div>"
     },
     "execution_count": 127,
     "metadata": {},
     "output_type": "execute_result"
    }
   ],
   "source": [
    "df.head()"
   ],
   "metadata": {
    "collapsed": false,
    "ExecuteTime": {
     "end_time": "2023-10-18T18:11:43.527302Z",
     "start_time": "2023-10-18T18:11:43.507818Z"
    }
   },
   "id": "3f921ad7480a572b"
  },
  {
   "cell_type": "code",
   "execution_count": 128,
   "outputs": [],
   "source": [
    "train = list(df['text'])\n",
    "# # train\n",
    "# train = ['The sky is blue.','The sun is bright.']"
   ],
   "metadata": {
    "collapsed": false,
    "ExecuteTime": {
     "end_time": "2023-10-18T18:11:43.528183Z",
     "start_time": "2023-10-18T18:11:43.511071Z"
    }
   },
   "id": "4fccbf59530c98fe"
  },
  {
   "cell_type": "code",
   "execution_count": 129,
   "outputs": [
    {
     "name": "stderr",
     "output_type": "stream",
     "text": [
      "[nltk_data] Downloading package punkt to /Users/louys/nltk_data...\n",
      "[nltk_data]   Package punkt is already up-to-date!\n"
     ]
    },
    {
     "data": {
      "text/plain": "True"
     },
     "execution_count": 129,
     "metadata": {},
     "output_type": "execute_result"
    }
   ],
   "source": [
    "nltk.download('punkt')"
   ],
   "metadata": {
    "collapsed": false,
    "ExecuteTime": {
     "end_time": "2023-10-18T18:11:43.572200Z",
     "start_time": "2023-10-18T18:11:43.514477Z"
    }
   },
   "id": "733eb812965e5ec8"
  },
  {
   "cell_type": "code",
   "execution_count": 130,
   "outputs": [],
   "source": [
    "stemmer = PorterStemmer()\n",
    "\n",
    "def preprocess_text(text):\n",
    "    # print(\"Original Text:\", text)  # Print the original text\n",
    "    tokens = word_tokenize(text)\n",
    "    # print(\"Tokenized Text:\", tokens)  # Print the tokenized text\n",
    "    tokens = [word for word in tokens if word.isalnum()]\n",
    "    # print(\"Alphanumeric Tokens:\", tokens)  # Print tokens containing only alphanumeric characters\n",
    "    tokens = [word.lower() for word in tokens]\n",
    "    # print(\"Lowercased Tokens:\", tokens)  # Print lowercase tokens\n",
    "    filtered_tokens = [word for word in tokens]\n",
    "    # print(\"Filtered Tokens:\", filtered_tokens)  # Print filtered tokens\n",
    "    stemmed_tokens = [stemmer.stem(word) for word in filtered_tokens]\n",
    "    # print(\"Stemmed Tokens:\", stemmed_tokens)  # Print stemmed tokens\n",
    "    return \" \".join(stemmed_tokens)\n",
    "\n",
    "# Apply the preprocessing function to a single row in the 'text' column\n",
    "\n",
    "train_new = [preprocess_text(text) for text in train]"
   ],
   "metadata": {
    "collapsed": false,
    "ExecuteTime": {
     "end_time": "2023-10-18T18:11:43.833977Z",
     "start_time": "2023-10-18T18:11:43.602725Z"
    }
   },
   "id": "764dec569b3a1968"
  },
  {
   "cell_type": "code",
   "execution_count": 132,
   "outputs": [],
   "source": [
    "tfidfvectorizer1 = TfidfVectorizer(analyzer='word', stop_words= 'english')\n",
    "tfidfvectorizer2 = TfidfVectorizer(analyzer='word', stop_words= 'english')"
   ],
   "metadata": {
    "collapsed": false,
    "ExecuteTime": {
     "end_time": "2023-10-18T18:11:43.847334Z",
     "start_time": "2023-10-18T18:11:43.843367Z"
    }
   },
   "id": "7877bd770a40d28a"
  },
  {
   "cell_type": "code",
   "execution_count": 133,
   "outputs": [],
   "source": [
    "tfidf_wm = tfidfvectorizer1.fit_transform(train)"
   ],
   "metadata": {
    "collapsed": false,
    "ExecuteTime": {
     "end_time": "2023-10-18T18:11:43.887604Z",
     "start_time": "2023-10-18T18:11:43.855256Z"
    }
   },
   "id": "b32422f0565f9731"
  },
  {
   "cell_type": "code",
   "execution_count": 134,
   "outputs": [],
   "source": [
    "tfidf_wm_new = tfidfvectorizer2.fit_transform(train_new)"
   ],
   "metadata": {
    "collapsed": false,
    "ExecuteTime": {
     "end_time": "2023-10-18T18:11:43.896560Z",
     "start_time": "2023-10-18T18:11:43.872640Z"
    }
   },
   "id": "889f418e8af7922f"
  },
  {
   "cell_type": "code",
   "execution_count": 135,
   "outputs": [],
   "source": [
    "tfidf_tokens = tfidfvectorizer1.get_feature_names_out()\n",
    "tfidf_tokens_new = tfidfvectorizer2.get_feature_names_out()"
   ],
   "metadata": {
    "collapsed": false,
    "ExecuteTime": {
     "end_time": "2023-10-18T18:11:43.896848Z",
     "start_time": "2023-10-18T18:11:43.881154Z"
    }
   },
   "id": "9e1c702cb4c29c43"
  },
  {
   "cell_type": "code",
   "execution_count": 135,
   "outputs": [],
   "source": [],
   "metadata": {
    "collapsed": false,
    "ExecuteTime": {
     "end_time": "2023-10-18T18:11:43.896917Z",
     "start_time": "2023-10-18T18:11:43.882857Z"
    }
   },
   "id": "243fecbd82b45824"
  },
  {
   "cell_type": "code",
   "execution_count": 137,
   "outputs": [],
   "source": [
    "df_tfidfvect1 = pd.DataFrame(data = tfidf_wm.todense(),columns = tfidf_tokens)\n",
    "df_tfidfvect2 = pd.DataFrame(data = tfidf_wm_new.todense(),columns = tfidf_tokens_new)"
   ],
   "metadata": {
    "collapsed": false,
    "ExecuteTime": {
     "end_time": "2023-10-18T18:11:59.442668Z",
     "start_time": "2023-10-18T18:11:59.429309Z"
    }
   },
   "id": "148c7a680a0154ae"
  },
  {
   "cell_type": "code",
   "execution_count": 138,
   "outputs": [
    {
     "data": {
      "text/plain": "    00  000   04   05   06  0f806a   10  100  1000  105  ...  yup  zen  zero  \\\n0  0.0  0.0  0.0  0.0  0.0     0.0  0.0  0.0   0.0  0.0  ...  0.0  0.0   0.0   \n1  0.0  0.0  0.0  0.0  0.0     0.0  0.0  0.0   0.0  0.0  ...  0.0  0.0   0.0   \n2  0.0  0.0  0.0  0.0  0.0     0.0  0.0  0.0   0.0  0.0  ...  0.0  0.0   0.0   \n3  0.0  0.0  0.0  0.0  0.0     0.0  0.0  0.0   0.0  0.0  ...  0.0  0.0   0.0   \n4  0.0  0.0  0.0  0.0  0.0     0.0  0.0  0.0   0.0  0.0  ...  0.0  0.0   0.0   \n\n   zima  zionist  ziowhore  zir  zombie  zombiefied  ¹assuming  \n0   0.0      0.0       0.0  0.0     0.0         0.0        0.0  \n1   0.0      0.0       0.0  0.0     0.0         0.0        0.0  \n2   0.0      0.0       0.0  0.0     0.0         0.0        0.0  \n3   0.0      0.0       0.0  0.0     0.0         0.0        0.0  \n4   0.0      0.0       0.0  0.0     0.0         0.0        0.0  \n\n[5 rows x 4406 columns]",
      "text/html": "<div>\n<style scoped>\n    .dataframe tbody tr th:only-of-type {\n        vertical-align: middle;\n    }\n\n    .dataframe tbody tr th {\n        vertical-align: top;\n    }\n\n    .dataframe thead th {\n        text-align: right;\n    }\n</style>\n<table border=\"1\" class=\"dataframe\">\n  <thead>\n    <tr style=\"text-align: right;\">\n      <th></th>\n      <th>00</th>\n      <th>000</th>\n      <th>04</th>\n      <th>05</th>\n      <th>06</th>\n      <th>0f806a</th>\n      <th>10</th>\n      <th>100</th>\n      <th>1000</th>\n      <th>105</th>\n      <th>...</th>\n      <th>yup</th>\n      <th>zen</th>\n      <th>zero</th>\n      <th>zima</th>\n      <th>zionist</th>\n      <th>ziowhore</th>\n      <th>zir</th>\n      <th>zombie</th>\n      <th>zombiefied</th>\n      <th>¹assuming</th>\n    </tr>\n  </thead>\n  <tbody>\n    <tr>\n      <th>0</th>\n      <td>0.0</td>\n      <td>0.0</td>\n      <td>0.0</td>\n      <td>0.0</td>\n      <td>0.0</td>\n      <td>0.0</td>\n      <td>0.0</td>\n      <td>0.0</td>\n      <td>0.0</td>\n      <td>0.0</td>\n      <td>...</td>\n      <td>0.0</td>\n      <td>0.0</td>\n      <td>0.0</td>\n      <td>0.0</td>\n      <td>0.0</td>\n      <td>0.0</td>\n      <td>0.0</td>\n      <td>0.0</td>\n      <td>0.0</td>\n      <td>0.0</td>\n    </tr>\n    <tr>\n      <th>1</th>\n      <td>0.0</td>\n      <td>0.0</td>\n      <td>0.0</td>\n      <td>0.0</td>\n      <td>0.0</td>\n      <td>0.0</td>\n      <td>0.0</td>\n      <td>0.0</td>\n      <td>0.0</td>\n      <td>0.0</td>\n      <td>...</td>\n      <td>0.0</td>\n      <td>0.0</td>\n      <td>0.0</td>\n      <td>0.0</td>\n      <td>0.0</td>\n      <td>0.0</td>\n      <td>0.0</td>\n      <td>0.0</td>\n      <td>0.0</td>\n      <td>0.0</td>\n    </tr>\n    <tr>\n      <th>2</th>\n      <td>0.0</td>\n      <td>0.0</td>\n      <td>0.0</td>\n      <td>0.0</td>\n      <td>0.0</td>\n      <td>0.0</td>\n      <td>0.0</td>\n      <td>0.0</td>\n      <td>0.0</td>\n      <td>0.0</td>\n      <td>...</td>\n      <td>0.0</td>\n      <td>0.0</td>\n      <td>0.0</td>\n      <td>0.0</td>\n      <td>0.0</td>\n      <td>0.0</td>\n      <td>0.0</td>\n      <td>0.0</td>\n      <td>0.0</td>\n      <td>0.0</td>\n    </tr>\n    <tr>\n      <th>3</th>\n      <td>0.0</td>\n      <td>0.0</td>\n      <td>0.0</td>\n      <td>0.0</td>\n      <td>0.0</td>\n      <td>0.0</td>\n      <td>0.0</td>\n      <td>0.0</td>\n      <td>0.0</td>\n      <td>0.0</td>\n      <td>...</td>\n      <td>0.0</td>\n      <td>0.0</td>\n      <td>0.0</td>\n      <td>0.0</td>\n      <td>0.0</td>\n      <td>0.0</td>\n      <td>0.0</td>\n      <td>0.0</td>\n      <td>0.0</td>\n      <td>0.0</td>\n    </tr>\n    <tr>\n      <th>4</th>\n      <td>0.0</td>\n      <td>0.0</td>\n      <td>0.0</td>\n      <td>0.0</td>\n      <td>0.0</td>\n      <td>0.0</td>\n      <td>0.0</td>\n      <td>0.0</td>\n      <td>0.0</td>\n      <td>0.0</td>\n      <td>...</td>\n      <td>0.0</td>\n      <td>0.0</td>\n      <td>0.0</td>\n      <td>0.0</td>\n      <td>0.0</td>\n      <td>0.0</td>\n      <td>0.0</td>\n      <td>0.0</td>\n      <td>0.0</td>\n      <td>0.0</td>\n    </tr>\n  </tbody>\n</table>\n<p>5 rows × 4406 columns</p>\n</div>"
     },
     "execution_count": 138,
     "metadata": {},
     "output_type": "execute_result"
    }
   ],
   "source": [
    "df_tfidfvect1.head()"
   ],
   "metadata": {
    "collapsed": false,
    "ExecuteTime": {
     "end_time": "2023-10-18T18:12:01.153755Z",
     "start_time": "2023-10-18T18:12:01.146137Z"
    }
   },
   "id": "9221e3840fb7951d"
  },
  {
   "cell_type": "code",
   "execution_count": 139,
   "outputs": [
    {
     "data": {
      "text/plain": "   0f806a   10  100  1000  105  10k   11  115   12   13  ...   yr  yup  zen  \\\n0     0.0  0.0  0.0   0.0  0.0  0.0  0.0  0.0  0.0  0.0  ...  0.0  0.0  0.0   \n1     0.0  0.0  0.0   0.0  0.0  0.0  0.0  0.0  0.0  0.0  ...  0.0  0.0  0.0   \n2     0.0  0.0  0.0   0.0  0.0  0.0  0.0  0.0  0.0  0.0  ...  0.0  0.0  0.0   \n3     0.0  0.0  0.0   0.0  0.0  0.0  0.0  0.0  0.0  0.0  ...  0.0  0.0  0.0   \n4     0.0  0.0  0.0   0.0  0.0  0.0  0.0  0.0  0.0  0.0  ...  0.0  0.0  0.0   \n\n   zero  zima  zionist  ziowhor  zombi  zombiefi  ¹assum  \n0   0.0   0.0      0.0      0.0    0.0       0.0     0.0  \n1   0.0   0.0      0.0      0.0    0.0       0.0     0.0  \n2   0.0   0.0      0.0      0.0    0.0       0.0     0.0  \n3   0.0   0.0      0.0      0.0    0.0       0.0     0.0  \n4   0.0   0.0      0.0      0.0    0.0       0.0     0.0  \n\n[5 rows x 3444 columns]",
      "text/html": "<div>\n<style scoped>\n    .dataframe tbody tr th:only-of-type {\n        vertical-align: middle;\n    }\n\n    .dataframe tbody tr th {\n        vertical-align: top;\n    }\n\n    .dataframe thead th {\n        text-align: right;\n    }\n</style>\n<table border=\"1\" class=\"dataframe\">\n  <thead>\n    <tr style=\"text-align: right;\">\n      <th></th>\n      <th>0f806a</th>\n      <th>10</th>\n      <th>100</th>\n      <th>1000</th>\n      <th>105</th>\n      <th>10k</th>\n      <th>11</th>\n      <th>115</th>\n      <th>12</th>\n      <th>13</th>\n      <th>...</th>\n      <th>yr</th>\n      <th>yup</th>\n      <th>zen</th>\n      <th>zero</th>\n      <th>zima</th>\n      <th>zionist</th>\n      <th>ziowhor</th>\n      <th>zombi</th>\n      <th>zombiefi</th>\n      <th>¹assum</th>\n    </tr>\n  </thead>\n  <tbody>\n    <tr>\n      <th>0</th>\n      <td>0.0</td>\n      <td>0.0</td>\n      <td>0.0</td>\n      <td>0.0</td>\n      <td>0.0</td>\n      <td>0.0</td>\n      <td>0.0</td>\n      <td>0.0</td>\n      <td>0.0</td>\n      <td>0.0</td>\n      <td>...</td>\n      <td>0.0</td>\n      <td>0.0</td>\n      <td>0.0</td>\n      <td>0.0</td>\n      <td>0.0</td>\n      <td>0.0</td>\n      <td>0.0</td>\n      <td>0.0</td>\n      <td>0.0</td>\n      <td>0.0</td>\n    </tr>\n    <tr>\n      <th>1</th>\n      <td>0.0</td>\n      <td>0.0</td>\n      <td>0.0</td>\n      <td>0.0</td>\n      <td>0.0</td>\n      <td>0.0</td>\n      <td>0.0</td>\n      <td>0.0</td>\n      <td>0.0</td>\n      <td>0.0</td>\n      <td>...</td>\n      <td>0.0</td>\n      <td>0.0</td>\n      <td>0.0</td>\n      <td>0.0</td>\n      <td>0.0</td>\n      <td>0.0</td>\n      <td>0.0</td>\n      <td>0.0</td>\n      <td>0.0</td>\n      <td>0.0</td>\n    </tr>\n    <tr>\n      <th>2</th>\n      <td>0.0</td>\n      <td>0.0</td>\n      <td>0.0</td>\n      <td>0.0</td>\n      <td>0.0</td>\n      <td>0.0</td>\n      <td>0.0</td>\n      <td>0.0</td>\n      <td>0.0</td>\n      <td>0.0</td>\n      <td>...</td>\n      <td>0.0</td>\n      <td>0.0</td>\n      <td>0.0</td>\n      <td>0.0</td>\n      <td>0.0</td>\n      <td>0.0</td>\n      <td>0.0</td>\n      <td>0.0</td>\n      <td>0.0</td>\n      <td>0.0</td>\n    </tr>\n    <tr>\n      <th>3</th>\n      <td>0.0</td>\n      <td>0.0</td>\n      <td>0.0</td>\n      <td>0.0</td>\n      <td>0.0</td>\n      <td>0.0</td>\n      <td>0.0</td>\n      <td>0.0</td>\n      <td>0.0</td>\n      <td>0.0</td>\n      <td>...</td>\n      <td>0.0</td>\n      <td>0.0</td>\n      <td>0.0</td>\n      <td>0.0</td>\n      <td>0.0</td>\n      <td>0.0</td>\n      <td>0.0</td>\n      <td>0.0</td>\n      <td>0.0</td>\n      <td>0.0</td>\n    </tr>\n    <tr>\n      <th>4</th>\n      <td>0.0</td>\n      <td>0.0</td>\n      <td>0.0</td>\n      <td>0.0</td>\n      <td>0.0</td>\n      <td>0.0</td>\n      <td>0.0</td>\n      <td>0.0</td>\n      <td>0.0</td>\n      <td>0.0</td>\n      <td>...</td>\n      <td>0.0</td>\n      <td>0.0</td>\n      <td>0.0</td>\n      <td>0.0</td>\n      <td>0.0</td>\n      <td>0.0</td>\n      <td>0.0</td>\n      <td>0.0</td>\n      <td>0.0</td>\n      <td>0.0</td>\n    </tr>\n  </tbody>\n</table>\n<p>5 rows × 3444 columns</p>\n</div>"
     },
     "execution_count": 139,
     "metadata": {},
     "output_type": "execute_result"
    }
   ],
   "source": [
    "df_tfidfvect2.head()"
   ],
   "metadata": {
    "collapsed": false,
    "ExecuteTime": {
     "end_time": "2023-10-18T18:12:05.319453Z",
     "start_time": "2023-10-18T18:12:05.319290Z"
    }
   },
   "id": "e05fc95661871a4c"
  }
 ],
 "metadata": {
  "kernelspec": {
   "display_name": "Python 3",
   "language": "python",
   "name": "python3"
  },
  "language_info": {
   "codemirror_mode": {
    "name": "ipython",
    "version": 2
   },
   "file_extension": ".py",
   "mimetype": "text/x-python",
   "name": "python",
   "nbconvert_exporter": "python",
   "pygments_lexer": "ipython2",
   "version": "2.7.6"
  }
 },
 "nbformat": 4,
 "nbformat_minor": 5
}
